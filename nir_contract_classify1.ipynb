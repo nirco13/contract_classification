{
 "cells": [
  {
   "cell_type": "code",
   "execution_count": 1,
   "metadata": {},
   "outputs": [
    {
     "name": "stderr",
     "output_type": "stream",
     "text": [
      "[nltk_data] Error loading stopwords: HTTP Error 401: Authorization\n",
      "[nltk_data]     Required\n",
      "[nltk_data] Error loading wordnet: HTTP Error 401: Authorization\n",
      "[nltk_data]     Required\n"
     ]
    }
   ],
   "source": [
    "import numpy as np\n",
    "import pandas as pd\n",
    "from sklearn.datasets import load_files\n",
    "import re\n",
    "import glob\n",
    "import nltk\n",
    "nltk.download('stopwords')\n",
    "nltk.download('wordnet')\n",
    "import pickle\n",
    "from nltk.corpus import stopwords\n",
    "import sys\n",
    "from functools import partial\n",
    "from zipfile import ZipFile"
   ]
  },
  {
   "cell_type": "code",
   "execution_count": 2,
   "metadata": {},
   "outputs": [
    {
     "data": {
      "text/html": [
       "<div>\n",
       "<style scoped>\n",
       "    .dataframe tbody tr th:only-of-type {\n",
       "        vertical-align: middle;\n",
       "    }\n",
       "\n",
       "    .dataframe tbody tr th {\n",
       "        vertical-align: top;\n",
       "    }\n",
       "\n",
       "    .dataframe thead th {\n",
       "        text-align: right;\n",
       "    }\n",
       "</style>\n",
       "<table border=\"1\" class=\"dataframe\">\n",
       "  <thead>\n",
       "    <tr style=\"text-align: right;\">\n",
       "      <th></th>\n",
       "      <th>id</th>\n",
       "      <th>label</th>\n",
       "      <th>content</th>\n",
       "    </tr>\n",
       "  </thead>\n",
       "  <tbody>\n",
       "    <tr>\n",
       "      <th>1890</th>\n",
       "      <td>15960</td>\n",
       "      <td>employment</td>\n",
       "      <td>THIRD AMENDMENT\\n\\nTO\\n\\n\\n\\nThis AMENDMENT TO...</td>\n",
       "    </tr>\n",
       "    <tr>\n",
       "      <th>2282</th>\n",
       "      <td>18490</td>\n",
       "      <td>rsu</td>\n",
       "      <td>\\n\\n\\n* * *\\n\\nExhibit 10.3\\n\\n  \\n\\n\\n  \\n\\...</td>\n",
       "    </tr>\n",
       "    <tr>\n",
       "      <th>2632</th>\n",
       "      <td>21990</td>\n",
       "      <td>rsu</td>\n",
       "      <td>Exhibit 10.10 \\n\\nGrant No.:\\n\\nCAPITALSOURCE ...</td>\n",
       "    </tr>\n",
       "    <tr>\n",
       "      <th>398</th>\n",
       "      <td>43480</td>\n",
       "      <td>bylaws</td>\n",
       "      <td>EXHIBIT 3B \\n\\n\\n\\nOF\\n\\nASTRO-MED, INC. \\n\\n(...</td>\n",
       "    </tr>\n",
       "    <tr>\n",
       "      <th>1533</th>\n",
       "      <td>12390</td>\n",
       "      <td>employment</td>\n",
       "      <td>\\n\\n\\nExhibit 99.1\\n\\n\\n\\nTHIS AGREEMENT is ...</td>\n",
       "    </tr>\n",
       "    <tr>\n",
       "      <th>3560</th>\n",
       "      <td>31270</td>\n",
       "      <td>rsu</td>\n",
       "      <td>Exhibit 10.3\\n\\n\\n\\nOPTION AGREEMENT (this “Op...</td>\n",
       "    </tr>\n",
       "    <tr>\n",
       "      <th>2745</th>\n",
       "      <td>23120</td>\n",
       "      <td>rsu</td>\n",
       "      <td>\\n\\n\\nEXHIBIT 10.4\\n\\nINTERNATIONAL RECTIFIE...</td>\n",
       "    </tr>\n",
       "    <tr>\n",
       "      <th>4244</th>\n",
       "      <td>00010</td>\n",
       "      <td>SPA</td>\n",
       "      <td>Exhibit 10.19\\n\\n\\n\\n  \\n\\n\\nTHIS SHARE PURCHA...</td>\n",
       "    </tr>\n",
       "    <tr>\n",
       "      <th>2463</th>\n",
       "      <td>20300</td>\n",
       "      <td>rsu</td>\n",
       "      <td>Exhibit 10.9\\n\\nSARA CREEK GOLD CORP.\\n\\n2014 ...</td>\n",
       "    </tr>\n",
       "    <tr>\n",
       "      <th>1892</th>\n",
       "      <td>15980</td>\n",
       "      <td>employment</td>\n",
       "      <td>Exhibit 10.3 Employment Agreement between Firs...</td>\n",
       "    </tr>\n",
       "  </tbody>\n",
       "</table>\n",
       "</div>"
      ],
      "text/plain": [
       "         id       label                                            content\n",
       "1890  15960  employment  THIRD AMENDMENT\\n\\nTO\\n\\n\\n\\nThis AMENDMENT TO...\n",
       "2282  18490         rsu    \\n\\n\\n* * *\\n\\nExhibit 10.3\\n\\n  \\n\\n\\n  \\n\\...\n",
       "2632  21990         rsu  Exhibit 10.10 \\n\\nGrant No.:\\n\\nCAPITALSOURCE ...\n",
       "398   43480      bylaws  EXHIBIT 3B \\n\\n\\n\\nOF\\n\\nASTRO-MED, INC. \\n\\n(...\n",
       "1533  12390  employment    \\n\\n\\nExhibit 99.1\\n\\n\\n\\nTHIS AGREEMENT is ...\n",
       "3560  31270         rsu  Exhibit 10.3\\n\\n\\n\\nOPTION AGREEMENT (this “Op...\n",
       "2745  23120         rsu    \\n\\n\\nEXHIBIT 10.4\\n\\nINTERNATIONAL RECTIFIE...\n",
       "4244  00010         SPA  Exhibit 10.19\\n\\n\\n\\n  \\n\\n\\nTHIS SHARE PURCHA...\n",
       "2463  20300         rsu  Exhibit 10.9\\n\\nSARA CREEK GOLD CORP.\\n\\n2014 ...\n",
       "1892  15980  employment  Exhibit 10.3 Employment Agreement between Firs..."
      ]
     },
     "execution_count": 2,
     "metadata": {},
     "output_type": "execute_result"
    }
   ],
   "source": [
    "data = []\n",
    "with ZipFile(\"data.zip\") as z:\n",
    "    for fname in z.namelist():\n",
    "        if not fname.endswith('.txt') or not fname.startswith('data'):\n",
    "            continue\n",
    "        content = z.read(fname).decode('utf8')\n",
    "        label, idx = fname[5:-4].split('-', 1)\n",
    "        data.append((idx,label,content,))\n",
    "df_train = pd.DataFrame(data, columns=(\"id\", \"label\", \"content\"))\n",
    "df_train.sample(10)"
   ]
  },
  {
   "cell_type": "code",
   "execution_count": 3,
   "metadata": {},
   "outputs": [],
   "source": [
    "# Read the train data\n",
    "#train_data = load_files(r'data', categories=['bylaws', 'credit', 'employment', 'rra', 'rsu', 'spa'])"
   ]
  },
  {
   "cell_type": "code",
   "execution_count": 4,
   "metadata": {},
   "outputs": [],
   "source": [
    "#X, y = train_data.data, train_data.target_names\n",
    "#print(y[0])\n",
    "\n",
    "X = df_train['content'].to_list()\n",
    "\n",
    "y_data = df_train['label'].to_list()\n"
   ]
  },
  {
   "cell_type": "code",
   "execution_count": 5,
   "metadata": {},
   "outputs": [],
   "source": [
    "# Txt preprocessing\n",
    "documents = []\n",
    "\n",
    "from nltk.stem import WordNetLemmatizer\n",
    "\n",
    "stemmer = WordNetLemmatizer()\n",
    "\n",
    "for sen in range(0, len(X)):\n",
    "    # Remove all the special characters\n",
    "    document = re.sub(r'\\W', ' ', str(X[sen]))\n",
    "    \n",
    "    # remove all single characters\n",
    "    document = re.sub(r'\\s+[a-zA-Z]\\s+', ' ', document)\n",
    "    \n",
    "    # Remove single characters from the start\n",
    "    document = re.sub(r'\\^[a-zA-Z]\\s+', ' ', document) \n",
    "    \n",
    "    # Substituting multiple spaces with single space\n",
    "    document = re.sub(r'\\s+', ' ', document, flags=re.I)\n",
    "    \n",
    "    # Removing prefixed 'b'\n",
    "    document = re.sub(r'^b\\s+', '', document)\n",
    "    \n",
    "    # Converting to Lowercase\n",
    "    document = document.lower()\n",
    "    \n",
    "    # Lemmatization\n",
    "    document = document.split()\n",
    "\n",
    "    document = [stemmer.lemmatize(word) for word in document]\n",
    "    document = ' '.join(document)\n",
    "    \n",
    "    documents.append(document)"
   ]
  },
  {
   "cell_type": "code",
   "execution_count": 6,
   "metadata": {
    "scrolled": false
   },
   "outputs": [],
   "source": [
    "from sklearn.feature_extraction.text import CountVectorizer\n",
    "\n",
    "vectorizer = CountVectorizer(max_features=1500, min_df=5, max_df=0.7, stop_words=stopwords.words('english'))\n",
    "X_data = vectorizer.fit_transform(documents).toarray()"
   ]
  },
  {
   "cell_type": "code",
   "execution_count": 7,
   "metadata": {},
   "outputs": [],
   "source": [
    "from sklearn.feature_extraction.text import TfidfTransformer\n",
    "\n",
    "tfidfconverter = TfidfTransformer()\n",
    "X_data = tfidfconverter.fit_transform(X_data).toarray()"
   ]
  },
  {
   "cell_type": "code",
   "execution_count": 8,
   "metadata": {},
   "outputs": [],
   "source": [
    "from sklearn.model_selection import train_test_split \n",
    "\n",
    "X_train, X_test, y_train, y_test = train_test_split(X_data, y_data, test_size=0.2, random_state=0)"
   ]
  },
  {
   "cell_type": "code",
   "execution_count": 9,
   "metadata": {},
   "outputs": [],
   "source": [
    "from sklearn.ensemble import RandomForestClassifier\n",
    "\n",
    "classifier = RandomForestClassifier(n_estimators=1500, random_state=0)\n",
    "classifier.fit(X_train, y_train) \n",
    "\n",
    "y_pred = classifier.predict(X_test)\n"
   ]
  },
  {
   "cell_type": "code",
   "execution_count": 10,
   "metadata": {},
   "outputs": [
    {
     "name": "stdout",
     "output_type": "stream",
     "text": [
      "AxesSubplot(0.125,0.125;0.775x0.755)\n"
     ]
    },
    {
     "data": {
      "image/png": "[encoded data removed]",
      "text/plain": [
       "<Figure size 432x288 with 1 Axes>"
      ]
     },
     "metadata": {
      "needs_background": "light"
     },
     "output_type": "display_data"
    }
   ],
   "source": [
    "print(df_train.label.hist())"
   ]
  },
  {
   "cell_type": "code",
   "execution_count": 11,
   "metadata": {},
   "outputs": [
    {
     "name": "stdout",
     "output_type": "stream",
     "text": [
      "[[ 35   0   0   0   0   3]\n",
      " [  0  83   0   0   0   0]\n",
      " [  1   0  39   0   0   2]\n",
      " [  0   0   0 278   0   1]\n",
      " [  0   1   0   0  26   1]\n",
      " [  1   0   0   1   0 414]]\n",
      "              precision    recall  f1-score   support\n",
      "\n",
      "         SPA       0.95      0.92      0.93        38\n",
      "      bylaws       0.99      1.00      0.99        83\n",
      "      credit       1.00      0.93      0.96        42\n",
      "  employment       1.00      1.00      1.00       279\n",
      "         rra       1.00      0.93      0.96        28\n",
      "         rsu       0.98      1.00      0.99       416\n",
      "\n",
      "    accuracy                           0.99       886\n",
      "   macro avg       0.99      0.96      0.97       886\n",
      "weighted avg       0.99      0.99      0.99       886\n",
      "\n",
      "0.9875846501128668\n"
     ]
    }
   ],
   "source": [
    "from sklearn.metrics import classification_report, confusion_matrix, accuracy_score\n",
    "\n",
    "print(confusion_matrix(y_test,y_pred))\n",
    "print(classification_report(y_test,y_pred))\n",
    "print(accuracy_score(y_test, y_pred))"
   ]
  },
  {
   "cell_type": "code",
   "execution_count": 12,
   "metadata": {},
   "outputs": [],
   "source": [
    "# Read the test data\n",
    "\n",
    "data = []\n",
    "with ZipFile(\"test.zip\") as z:\n",
    "    for fname in z.namelist():\n",
    "        content = z.read(fname).decode('utf8')\n",
    "        if not fname.endswith('.txt') or not fname.startswith('test'):\n",
    "            continue\n",
    "        idx = fname[5:-4]\n",
    "        data.append((idx,content,))\n",
    "df_test = pd.DataFrame(data, columns=(\"id\", \"content\"))\n",
    "df_test.sample(10)\n",
    "\n",
    "X_test_data = df_test['content'].to_list()\n"
   ]
  },
  {
   "cell_type": "code",
   "execution_count": 13,
   "metadata": {},
   "outputs": [
    {
     "name": "stdout",
     "output_type": "stream",
     "text": [
      "      id                                            content\n",
      "0  acldm  Exhibit 10.4\\n\\nCAPITAL TRUST, INC.\\n\\n2007 LO...\n",
      "1  acxlg    \\n\\n\\n  \\n\\n\\n  \\n\\n\\n  \\n\\n\\n  \\n\\n\\n  \\n\\n...\n",
      "2  aehlr  Exhibit 99.3\\n\\nHERBALIFE LTD.  \\n2004 STOCK I...\n",
      "3  aerlh  Exhibit 10.10\\n\\n\\n\\nTHIS STOCK OPTION AGREEME...\n",
      "4  aisgb  Exhibit 10.6\\n\\n\\n\\nEMPLOYMENT AGREEMENT effec...\n"
     ]
    }
   ],
   "source": [
    "print(df_test.head())"
   ]
  },
  {
   "cell_type": "code",
   "execution_count": 14,
   "metadata": {},
   "outputs": [],
   "source": [
    "# Txt preprocessing\n",
    "documents = []\n",
    "\n",
    "from nltk.stem import WordNetLemmatizer\n",
    "\n",
    "stemmer = WordNetLemmatizer()\n",
    "\n",
    "for sen in range(0, len(X_test_data)):\n",
    "    # Remove all the special characters\n",
    "    document = re.sub(r'\\W', ' ', str(X_test_data[sen]))\n",
    "    \n",
    "    # remove all single characters\n",
    "    document = re.sub(r'\\s+[a-zA-Z]\\s+', ' ', document)\n",
    "    \n",
    "    # Remove single characters from the start\n",
    "    document = re.sub(r'\\^[a-zA-Z]\\s+', ' ', document) \n",
    "    \n",
    "    # Substituting multiple spaces with single space\n",
    "    document = re.sub(r'\\s+', ' ', document, flags=re.I)\n",
    "    \n",
    "    # Removing prefixed 'b'\n",
    "    document = re.sub(r'^b\\s+', '', document)\n",
    "    \n",
    "    # Converting to Lowercase\n",
    "    document = document.lower()\n",
    "    \n",
    "    # Lemmatization\n",
    "    document = document.split()\n",
    "\n",
    "    document = [stemmer.lemmatize(word) for word in document]\n",
    "    document = ' '.join(document)\n",
    "    \n",
    "    documents.append(document)"
   ]
  },
  {
   "cell_type": "code",
   "execution_count": 15,
   "metadata": {},
   "outputs": [],
   "source": [
    "from sklearn.feature_extraction.text import CountVectorizer\n",
    "\n",
    "vectorizer = CountVectorizer(max_features=1500, min_df=5, max_df=0.7, stop_words=stopwords.words('english'))\n",
    "X_test_data = vectorizer.fit_transform(documents).toarray()"
   ]
  },
  {
   "cell_type": "code",
   "execution_count": 16,
   "metadata": {},
   "outputs": [],
   "source": [
    "from sklearn.feature_extraction.text import TfidfTransformer\n",
    "\n",
    "tfidfconverter = TfidfTransformer()\n",
    "X_test_data = tfidfconverter.fit_transform(X_test_data).toarray()"
   ]
  },
  {
   "cell_type": "code",
   "execution_count": 17,
   "metadata": {},
   "outputs": [],
   "source": [
    "y_pred = classifier.predict(X_test_data)\n"
   ]
  },
  {
   "cell_type": "code",
   "execution_count": 18,
   "metadata": {},
   "outputs": [
    {
     "name": "stdout",
     "output_type": "stream",
     "text": [
      "AxesSubplot(0.125,0.125;0.775x0.755)\n"
     ]
    },
    {
     "data": {
      "image/png": "[encoded data removed]",
      "text/plain": [
       "<Figure size 432x288 with 1 Axes>"
      ]
     },
     "metadata": {
      "needs_background": "light"
     },
     "output_type": "display_data"
    }
   ],
   "source": [
    "df_test['label'] = y_pred\n",
    "print(df_test.label.hist())"
   ]
  },
  {
   "cell_type": "code",
   "execution_count": 19,
   "metadata": {},
   "outputs": [],
   "source": [
    "import sys\n",
    "from functools import partial\n",
    "from zipfile import ZipFile\n",
    "import pandas as pd\n",
    "sys.path.append('../src')\n",
    "%matplotlib inline"
   ]
  },
  {
   "cell_type": "code",
   "execution_count": 20,
   "metadata": {},
   "outputs": [],
   "source": [
    "from urllib import request, parse\n",
    "import json, random\n",
    "\n",
    "def submit(name,company,email,phone,user, test_data):\n",
    "    \"\"\"Submits a test data set to the pydata server, and returns accuracy\"\"\"\n",
    "    try:\n",
    "        test_data = {str(k).lower().replace(\".txt\", \"\"):str(v).lower().strip() for k,v in test_data.items()}\n",
    "        data = parse.urlencode({\"user\":user, \"submission\": json.dumps(test_data), \"name\":name,\"company\":company,\"phone\":phone,\"email\":email}).encode()\n",
    "        req =  request.Request(\"https://goren.ml/uattcontract/index.php?rand=\"+str(random.randint(167,1000000)), data=data)\n",
    "        resp = request.urlopen(req)\n",
    "        return float(resp.read().decode(\"utf8\"))\n",
    "    except Exception as e:\n",
    "        print (str(e))\n",
    "        return None"
   ]
  },
  {
   "cell_type": "code",
   "execution_count": 21,
   "metadata": {},
   "outputs": [],
   "source": [
    "# If you're having problem importing this file, copy and paste the contents of \"uatt.py\" in this cell instead\n",
    "# of the import statement\n",
    "#from uatt import submit\n",
    "\n",
    "my_submit = partial(submit, \"Nir Cohen\", \"IAI\", \"nir.cohen13@gmail.com\", \"0546840888\")"
   ]
  },
  {
   "cell_type": "code",
   "execution_count": 22,
   "metadata": {},
   "outputs": [
    {
     "data": {
      "text/plain": [
       "0.52798053527981"
      ]
     },
     "execution_count": 22,
     "metadata": {},
     "output_type": "execute_result"
    }
   ],
   "source": [
    "submission = dict(df_test[[\"id\",\"label\"]].values)\n",
    "#submission name must be unique\n",
    "submission_name = \"Nir_Cohen_1\"\n",
    "my_submit(submission_name, submission)"
   ]
  },
  {
   "cell_type": "code",
   "execution_count": 23,
   "metadata": {},
   "outputs": [],
   "source": [
    "# Save model\n",
    "#with open('text_classifier', 'wb') as picklefile:\n",
    "#    pickle.dump(classifier,picklefile)"
   ]
  },
  {
   "cell_type": "code",
   "execution_count": 24,
   "metadata": {},
   "outputs": [],
   "source": [
    "# Read the test data\n",
    "\n",
    "#data = []\n",
    "#with ZipFile(\"test.zip\") as z:\n",
    "#    for fname in z.namelist():\n",
    "#        content = z.read(fname).decode('utf8')\n",
    "#        if not fname.endswith('.txt') or not fname.startswith('test'):\n",
    "#            continue\n",
    "#        idx = fname[5:-4]\n",
    "#        data.append((idx,content,))\n",
    "#df_test = pd.DataFrame(data, columns=(\"id\", \"content\"))\n",
    "#df_test.sample(10)\n",
    "\n",
    "#X_test = df_test['content'].to_list()\n",
    "\n",
    "\n",
    "#path = os.path.dirname('C:\\Users\\nirco\\contract_classification\\notebooks\\test')\n",
    "#csv_files = glob.glob(os.path.join(path, \"*.csv\"))\n",
    "\n",
    "#csv_files = glob.glob('test')\n",
    "\n",
    "#train_data = load_files(r'test')\n",
    "#X_test = train_data.data\n",
    "\n",
    "# List comprehension that loads of all the files\n",
    "# X_test = [pd.read_csv(x) for x in path]\n",
    "\n"
   ]
  }
 ],
 "metadata": {
  "kernelspec": {
   "display_name": "Python 3",
   "language": "python",
   "name": "python3"
  },
  "language_info": {
   "codemirror_mode": {
    "name": "ipython",
    "version": 3
   },
   "file_extension": ".py",
   "mimetype": "text/x-python",
   "name": "python",
   "nbconvert_exporter": "python",
   "pygments_lexer": "ipython3",
   "version": "3.8.5"
  }
 },
 "nbformat": 4,
 "nbformat_minor": 5
}
